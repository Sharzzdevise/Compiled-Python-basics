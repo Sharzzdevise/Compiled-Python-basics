{
  "nbformat": 4,
  "nbformat_minor": 0,
  "metadata": {
    "colab": {
      "provenance": [],
      "collapsed_sections": [],
      "authorship_tag": "ABX9TyPtDsoRegDu8Le0LlSceJ/l",
      "include_colab_link": true
    },
    "kernelspec": {
      "name": "python3",
      "display_name": "Python 3"
    },
    "language_info": {
      "name": "python"
    }
  },
  "cells": [
    {
      "cell_type": "markdown",
      "metadata": {
        "id": "view-in-github",
        "colab_type": "text"
      },
      "source": [
        "<a href=\"https://colab.research.google.com/github/Sharzzdevise/Compiled-Python-basics-1/blob/Master/Python_basics_1(compilation).ipynb\" target=\"_parent\"><img src=\"https://colab.research.google.com/assets/colab-badge.svg\" alt=\"Open In Colab\"/></a>"
      ]
    },
    {
      "cell_type": "code",
      "execution_count": null,
      "metadata": {
        "colab": {
          "base_uri": "https://localhost:8080/"
        },
        "id": "urdU7madcRu9",
        "outputId": "955106ca-0273-4ee8-e7d6-d5c849c09779"
      },
      "outputs": [
        {
          "output_type": "stream",
          "name": "stdout",
          "text": [
            "[0.  2.5 5. ]\n"
          ]
        }
      ],
      "source": [
        "import numpy as np\n",
        "\n",
        "arr6 = np.linspace(0, 5, 3) \n",
        "print(arr6) "
      ]
    },
    {
      "cell_type": "code",
      "source": [
        "import numpy as np\n",
        "arr2 = [[1, 2, 3],        [4, 0, 6]] \n",
        "print(np.sum(arr2, axis=1))"
      ],
      "metadata": {
        "colab": {
          "base_uri": "https://localhost:8080/"
        },
        "id": "UrGpXLNGc0EU",
        "outputId": "78f62ce6-ae86-48ac-eda5-d038d672737c"
      },
      "execution_count": null,
      "outputs": [
        {
          "output_type": "stream",
          "name": "stdout",
          "text": [
            "[ 6 10]\n"
          ]
        }
      ]
    },
    {
      "cell_type": "code",
      "source": [
        "import numpy as np\n",
        "\n",
        "l1 = [1, 2, 3, 4]\n",
        "print(l1 * 2)\n",
        "arr = np.array(l1)\n",
        "print(arr * 2)"
      ],
      "metadata": {
        "colab": {
          "base_uri": "https://localhost:8080/"
        },
        "id": "HiGrwgpxdJk1",
        "outputId": "40a24e61-ae5f-43e4-b6dd-615af401c11c"
      },
      "execution_count": null,
      "outputs": [
        {
          "output_type": "stream",
          "name": "stdout",
          "text": [
            "[1, 2, 3, 4, 1, 2, 3, 4]\n",
            "[2 4 6 8]\n"
          ]
        }
      ]
    },
    {
      "cell_type": "markdown",
      "source": [
        "String concatenation\n",
        "string = characters between quotes"
      ],
      "metadata": {
        "id": "uqSklb3Ic4eH"
      }
    },
    {
      "cell_type": "code",
      "source": [
        "first_name = \"Ifeanyichukwu\"\n",
        "last_name = \"Adeleke\"\n",
        "full_name = \"first_name\"+ \" \" + \"last_name\"\n",
        "print(full_name)"
      ],
      "metadata": {
        "colab": {
          "base_uri": "https://localhost:8080/"
        },
        "id": "XdHFwsiKktIU",
        "outputId": "37b1d2fc-517d-4c7d-fe19-467d8f444f20"
      },
      "execution_count": 10,
      "outputs": [
        {
          "output_type": "stream",
          "name": "stdout",
          "text": [
            "first_name last_name\n"
          ]
        }
      ]
    },
    {
      "cell_type": "markdown",
      "source": [
        "Formatting strings"
      ],
      "metadata": {
        "id": "FsnanoJidC_D"
      }
    },
    {
      "cell_type": "code",
      "source": [
        "first_name = \"Femi\"\n",
        "print('My name is {}' .format(first_name))\n"
      ],
      "metadata": {
        "colab": {
          "base_uri": "https://localhost:8080/"
        },
        "id": "Dq46lFHkrSpM",
        "outputId": "f927a77b-1825-4031-bff1-4d8bbfda797d"
      },
      "execution_count": null,
      "outputs": [
        {
          "output_type": "stream",
          "name": "stdout",
          "text": [
            "My name is Femi\n"
          ]
        }
      ]
    },
    {
      "cell_type": "markdown",
      "source": [
        "Fstrings (shortcut)"
      ],
      "metadata": {
        "id": "jJ_awKKTdLXb"
      }
    },
    {
      "cell_type": "code",
      "source": [
        "first_name = \"Sharon\"\n",
        "print(f\"Hello, my name is {first_name}\")\n",
        "\n"
      ],
      "metadata": {
        "colab": {
          "base_uri": "https://localhost:8080/"
        },
        "outputId": "416845f4-556d-418a-a83f-01211ed36f32",
        "id": "I-iANF_GGt62"
      },
      "execution_count": 2,
      "outputs": [
        {
          "output_type": "stream",
          "name": "stdout",
          "text": [
            "Hello, my name is Sharon\n"
          ]
        }
      ]
    },
    {
      "cell_type": "markdown",
      "source": [
        "String index"
      ],
      "metadata": {
        "id": "YK32zmfQdP-L"
      }
    },
    {
      "cell_type": "code",
      "source": [
        "word = \"Hodkinson\"\n",
        "print(word[0])"
      ],
      "metadata": {
        "colab": {
          "base_uri": "https://localhost:8080/"
        },
        "outputId": "a454eefd-f25a-4957-8bfd-84d11eeb481a",
        "id": "SmuQ31TDG-uN"
      },
      "execution_count": 8,
      "outputs": [
        {
          "output_type": "stream",
          "name": "stdout",
          "text": [
            "H\n"
          ]
        }
      ]
    },
    {
      "cell_type": "markdown",
      "source": [
        "String slicing"
      ],
      "metadata": {
        "id": "QgU1CltHd-od"
      }
    },
    {
      "cell_type": "code",
      "source": [
        "word = \"Hodkinson\"\n",
        "print(word[0:5])"
      ],
      "metadata": {
        "colab": {
          "base_uri": "https://localhost:8080/"
        },
        "outputId": "253a6cfd-2034-47ba-b25b-72d7bee07503",
        "id": "gLHX_zJ8GxAY"
      },
      "execution_count": 9,
      "outputs": [
        {
          "output_type": "stream",
          "name": "stdout",
          "text": [
            "Hodki\n"
          ]
        }
      ]
    },
    {
      "cell_type": "markdown",
      "source": [
        "String manipulation\n",
        "title()"
      ],
      "metadata": {
        "id": "QFoQxhW_fnjs"
      }
    },
    {
      "cell_type": "code",
      "source": [
        "first_name = \"sharon\"\n",
        "print(first_name.title())"
      ],
      "metadata": {
        "colab": {
          "base_uri": "https://localhost:8080/"
        },
        "outputId": "53e581ce-32f5-4374-e5be-de6b2e9b0faf",
        "id": "0J_-3e-VGs4u"
      },
      "execution_count": 11,
      "outputs": [
        {
          "output_type": "stream",
          "name": "stdout",
          "text": [
            "Sharon\n"
          ]
        }
      ]
    },
    {
      "cell_type": "markdown",
      "source": [
        "string manipulations"
      ],
      "metadata": {
        "id": "B8bZmOEkf1ZH"
      }
    },
    {
      "cell_type": "code",
      "source": [
        "word = \"Sharon will be a great woman\"\n",
        "print(word.upper())"
      ],
      "metadata": {
        "colab": {
          "base_uri": "https://localhost:8080/"
        },
        "id": "BKQLCB3JF-Cq",
        "outputId": "57f2fa19-79cb-4f19-bd18-1399d9284137"
      },
      "execution_count": 12,
      "outputs": [
        {
          "output_type": "stream",
          "name": "stdout",
          "text": [
            "SHARON WILL BE A GREAT WOMAN\n"
          ]
        }
      ]
    },
    {
      "cell_type": "code",
      "source": [
        "word = \"Sharon will be a great woman\"\n",
        "print(word.lower())"
      ],
      "metadata": {
        "colab": {
          "base_uri": "https://localhost:8080/"
        },
        "id": "my9tedyXgQIy",
        "outputId": "381dc263-b7b7-474b-de73-8b8e63251fe1"
      },
      "execution_count": 13,
      "outputs": [
        {
          "output_type": "stream",
          "name": "stdout",
          "text": [
            "sharon will be a great woman\n"
          ]
        }
      ]
    },
    {
      "cell_type": "code",
      "source": [
        "word =\"Sharon is great!\"\n",
        "print(word.replace('!','.'))"
      ],
      "metadata": {
        "colab": {
          "base_uri": "https://localhost:8080/"
        },
        "id": "6aJrnrUagZml",
        "outputId": "a2a664d4-72f0-4369-cb75-b9e355ab8717"
      },
      "execution_count": 14,
      "outputs": [
        {
          "output_type": "stream",
          "name": "stdout",
          "text": [
            "Sharon is great.\n"
          ]
        }
      ]
    },
    {
      "cell_type": "code",
      "source": [
        "word = \"Sharon will be a great woman\"\n",
        "print(word.find('great'))"
      ],
      "metadata": {
        "colab": {
          "base_uri": "https://localhost:8080/"
        },
        "id": "R6KRcH9kg3yw",
        "outputId": "bfecb3ec-4415-4846-a64a-15647400983b"
      },
      "execution_count": 15,
      "outputs": [
        {
          "output_type": "stream",
          "name": "stdout",
          "text": [
            "17\n"
          ]
        }
      ]
    },
    {
      "cell_type": "code",
      "source": [
        "word = \"Sharon will be a great woman\"\n",
        "print(word.find('woman'))"
      ],
      "metadata": {
        "colab": {
          "base_uri": "https://localhost:8080/"
        },
        "id": "XyTWe1LwitFt",
        "outputId": "8482a822-0dd3-4185-b8d7-653b4de110e3"
      },
      "execution_count": 22,
      "outputs": [
        {
          "output_type": "stream",
          "name": "stdout",
          "text": [
            "23\n"
          ]
        }
      ]
    },
    {
      "cell_type": "markdown",
      "source": [
        "Conditional statements (if and else)"
      ],
      "metadata": {
        "id": "o7gKxwkLkfiV"
      }
    },
    {
      "cell_type": "code",
      "source": [
        "x = 10\n",
        "y = 4\n",
        "if x > y:\n",
        " print(\"x is greater than y\" )"
      ],
      "metadata": {
        "colab": {
          "base_uri": "https://localhost:8080/"
        },
        "id": "TimTKcePki4Q",
        "outputId": "6ecc67cc-2393-40e2-9297-9330511774b6"
      },
      "execution_count": 23,
      "outputs": [
        {
          "output_type": "stream",
          "name": "stdout",
          "text": [
            "x is greater than y\n"
          ]
        }
      ]
    },
    {
      "cell_type": "code",
      "source": [
        "x = 1\n",
        "y = 4\n",
        "if x > y:\n",
        "  print(\"x is greater than y\")\n",
        "else:\n",
        "   print(\"x is less than y\")"
      ],
      "metadata": {
        "colab": {
          "base_uri": "https://localhost:8080/"
        },
        "id": "GFs5SRcslpmp",
        "outputId": "912dfd04-eee1-4e42-ba57-7ae449d59fce"
      },
      "execution_count": 24,
      "outputs": [
        {
          "output_type": "stream",
          "name": "stdout",
          "text": [
            "x is less than y\n"
          ]
        }
      ]
    },
    {
      "cell_type": "code",
      "source": [
        "x = 1\n",
        "y = 3\n",
        "if x > y:\n",
        "  print(\"x is greater than y\")\n",
        "elif x == y:\n",
        "  print(\"x is equal to y\")\n",
        "else:\n",
        "  print(\"y is greater than x\")\n"
      ],
      "metadata": {
        "colab": {
          "base_uri": "https://localhost:8080/"
        },
        "id": "pntfCIAXl-il",
        "outputId": "62e15717-45a2-4149-dfd5-f7b89d49fdff"
      },
      "execution_count": 25,
      "outputs": [
        {
          "output_type": "stream",
          "name": "stdout",
          "text": [
            "y is greater than x\n"
          ]
        }
      ]
    },
    {
      "cell_type": "markdown",
      "source": [
        "List manipulation"
      ],
      "metadata": {
        "id": "wDTDh_2yp4F_"
      }
    },
    {
      "cell_type": "code",
      "source": [
        "names = [\"Sharon\", \"Prosper\", \"Handel\"]\n",
        "print(names[2])"
      ],
      "metadata": {
        "colab": {
          "base_uri": "https://localhost:8080/"
        },
        "id": "Uk8Yzd2dp6HH",
        "outputId": "30f3be9d-25ab-4aa5-e972-fdd41a50b56c"
      },
      "execution_count": 29,
      "outputs": [
        {
          "output_type": "stream",
          "name": "stdout",
          "text": [
            "Handel\n"
          ]
        }
      ]
    },
    {
      "cell_type": "code",
      "source": [
        "list1 = [2, 9.7, \"word\", True]\n",
        "print(list1[0:2])"
      ],
      "metadata": {
        "colab": {
          "base_uri": "https://localhost:8080/"
        },
        "id": "LMQQNskSqm6X",
        "outputId": "f1509f86-4493-4f43-8297-e87bc558b9ff"
      },
      "execution_count": 30,
      "outputs": [
        {
          "output_type": "stream",
          "name": "stdout",
          "text": [
            "[2, 9.7]\n"
          ]
        }
      ]
    },
    {
      "cell_type": "code",
      "source": [
        "list2 = [\"cat\", \"dog\",[\"crocodile\", \"fish\"], 70, 90]\n",
        "print(list2[2])"
      ],
      "metadata": {
        "colab": {
          "base_uri": "https://localhost:8080/"
        },
        "id": "8JRmuePGqzG5",
        "outputId": "eabe88c2-bfb9-4d22-a9ca-c4008782373e"
      },
      "execution_count": 33,
      "outputs": [
        {
          "output_type": "stream",
          "name": "stdout",
          "text": [
            "['crocodile', 'fish']\n"
          ]
        }
      ]
    },
    {
      "cell_type": "code",
      "source": [
        "list1 = [2, 9.7, \"word\", True]\n",
        "list2 = [\"cat\", \"dog\",[\"crocodile\", \"fish\"], 70, 90]\n",
        "list2 = list1[2]\n",
        "print(list2[0])"
      ],
      "metadata": {
        "colab": {
          "base_uri": "https://localhost:8080/"
        },
        "id": "X0XrZpgOrnO7",
        "outputId": "d0969243-1576-45c6-b300-e80c268e4c2b"
      },
      "execution_count": 34,
      "outputs": [
        {
          "output_type": "stream",
          "name": "stdout",
          "text": [
            "w\n"
          ]
        }
      ]
    },
    {
      "cell_type": "markdown",
      "source": [
        "Updating records"
      ],
      "metadata": {
        "id": "OV7CFubYsFl3"
      }
    },
    {
      "cell_type": "code",
      "source": [
        "student1 = [\"Godwin\", 24, \"Computer science\"]\n",
        "print(student1)\n",
        "student1[1] = 25\n",
        "print(student1)"
      ],
      "metadata": {
        "colab": {
          "base_uri": "https://localhost:8080/"
        },
        "id": "bEjjYdXtsKFY",
        "outputId": "9b7c074d-cec4-4c8a-ba5d-98fdd6537671"
      },
      "execution_count": 36,
      "outputs": [
        {
          "output_type": "stream",
          "name": "stdout",
          "text": [
            "['Godwin', 24, 'Computer science']\n",
            "['Godwin', 25, 'Computer science']\n"
          ]
        }
      ]
    },
    {
      "cell_type": "markdown",
      "source": [
        "Sorting"
      ],
      "metadata": {
        "id": "Qxu4dKca2MoF"
      }
    },
    {
      "cell_type": "code",
      "source": [
        "prices =[2.5, 3.5, 0.45, 7.85, 1.48]\n",
        "prices.sort()\n",
        "print(prices)"
      ],
      "metadata": {
        "colab": {
          "base_uri": "https://localhost:8080/"
        },
        "id": "ETM5xvso2Ltm",
        "outputId": "52375e71-507e-44a4-fef3-65eaa19c7e06"
      },
      "execution_count": 37,
      "outputs": [
        {
          "output_type": "stream",
          "name": "stdout",
          "text": [
            "[0.45, 1.48, 2.5, 3.5, 7.85]\n"
          ]
        }
      ]
    },
    {
      "cell_type": "code",
      "source": [
        "prices =[2.5, 3.5, 0.45, 7.85, 1.48]\n",
        "prices.sort(reverse = True)\n",
        "print(prices)"
      ],
      "metadata": {
        "colab": {
          "base_uri": "https://localhost:8080/"
        },
        "id": "Vb8Rz3b-2heQ",
        "outputId": "0ef7114b-59b7-4300-d3a7-afdaf107a58a"
      },
      "execution_count": 40,
      "outputs": [
        {
          "output_type": "stream",
          "name": "stdout",
          "text": [
            "[7.85, 3.5, 2.5, 1.48, 0.45]\n"
          ]
        }
      ]
    },
    {
      "cell_type": "markdown",
      "source": [
        "Detecting Type"
      ],
      "metadata": {
        "id": "X1o3-Q4e3vEZ"
      }
    },
    {
      "cell_type": "code",
      "source": [
        "list1 = [2, 9.7, \"word\", True]\n",
        "print(type(list1))"
      ],
      "metadata": {
        "colab": {
          "base_uri": "https://localhost:8080/"
        },
        "id": "syCQ_PSw3yVu",
        "outputId": "e0f8f13b-297d-49d1-8cff-d06edc39bb40"
      },
      "execution_count": 41,
      "outputs": [
        {
          "output_type": "stream",
          "name": "stdout",
          "text": [
            "<class 'list'>\n"
          ]
        }
      ]
    },
    {
      "cell_type": "markdown",
      "source": [
        "Append method"
      ],
      "metadata": {
        "id": "YUHrnF9n4Gk0"
      }
    },
    {
      "cell_type": "code",
      "source": [
        "Days = [\"Monday\", \"Tuesday\", \"Thursday\"]\n",
        "Days.append(\"Wednesday\")\n",
        "print(Days)\n",
        "\n"
      ],
      "metadata": {
        "colab": {
          "base_uri": "https://localhost:8080/"
        },
        "id": "rvhhz2Vj4IIH",
        "outputId": "29425632-21ab-4193-d2ce-27e3ed77ea52"
      },
      "execution_count": 42,
      "outputs": [
        {
          "output_type": "stream",
          "name": "stdout",
          "text": [
            "['Monday', 'Tuesday', 'Thursday', 'Wednesday']\n"
          ]
        }
      ]
    },
    {
      "cell_type": "markdown",
      "source": [
        "Extend method"
      ],
      "metadata": {
        "id": "6GtTlWwv6D9I"
      }
    },
    {
      "cell_type": "code",
      "source": [
        "Days = [\"Monday\", \"Tuesday\", \"Thursday\"]\n",
        "Days.extend([\"Wednesday\", \"Friday\"])\n",
        "print(Days)"
      ],
      "metadata": {
        "colab": {
          "base_uri": "https://localhost:8080/"
        },
        "id": "2heW7xnl4qOn",
        "outputId": "16f6160c-5f58-4c4c-d70f-ce451ae349d0"
      },
      "execution_count": 43,
      "outputs": [
        {
          "output_type": "stream",
          "name": "stdout",
          "text": [
            "['Monday', 'Tuesday', 'Thursday', 'Wednesday', 'Friday']\n"
          ]
        }
      ]
    },
    {
      "cell_type": "markdown",
      "source": [
        "Index method"
      ],
      "metadata": {
        "id": "ffAhDG2i6HMO"
      }
    },
    {
      "cell_type": "code",
      "source": [
        "Days = [\"Monday\", \"Tuesday\", \"Thursday\"]\n",
        "print(Days.index(\"Tuesday\"))"
      ],
      "metadata": {
        "colab": {
          "base_uri": "https://localhost:8080/"
        },
        "id": "VLpPYU5T5xJv",
        "outputId": "20cb7b59-b5e1-44d1-9cbb-66ad30e5c849"
      },
      "execution_count": 45,
      "outputs": [
        {
          "output_type": "stream",
          "name": "stdout",
          "text": [
            "1\n"
          ]
        }
      ]
    },
    {
      "cell_type": "markdown",
      "source": [
        "len() function"
      ],
      "metadata": {
        "id": "iTFP8xXj6aDo"
      }
    },
    {
      "cell_type": "code",
      "source": [
        "Days = [\"Monday\", \"Tuesday\", \"Thursday\"]\n",
        "print(len(Days))"
      ],
      "metadata": {
        "colab": {
          "base_uri": "https://localhost:8080/"
        },
        "id": "mjgJ_hLd6cdW",
        "outputId": "b319a86a-82e8-4499-85ec-e425595cffde"
      },
      "execution_count": 49,
      "outputs": [
        {
          "output_type": "stream",
          "name": "stdout",
          "text": [
            "3\n"
          ]
        }
      ]
    },
    {
      "cell_type": "markdown",
      "source": [
        "Max and min function"
      ],
      "metadata": {
        "id": "JCXI-KwM-Npm"
      }
    },
    {
      "cell_type": "code",
      "source": [
        "Ages = [3, 4, 5, 7, 8, 9]\n",
        "print(\"{} is the highest age in the group\". format(max(Ages)))"
      ],
      "metadata": {
        "colab": {
          "base_uri": "https://localhost:8080/"
        },
        "id": "MMN4TKNH-Pxk",
        "outputId": "c6a58765-ce5f-446d-b954-9089b5076a23"
      },
      "execution_count": 50,
      "outputs": [
        {
          "output_type": "stream",
          "name": "stdout",
          "text": [
            "9 is the highest age in the group\n"
          ]
        }
      ]
    },
    {
      "cell_type": "code",
      "source": [
        "Ages = [3, 4, 5, 7, 8, 9]\n",
        "print(\"The smallest age in the group is {}\".format(min(Ages)))"
      ],
      "metadata": {
        "colab": {
          "base_uri": "https://localhost:8080/"
        },
        "id": "vmzfn6z0-uec",
        "outputId": "029e5d9e-b4db-4728-a76a-85664145fe40"
      },
      "execution_count": 2,
      "outputs": [
        {
          "output_type": "stream",
          "name": "stdout",
          "text": [
            "The smallest age in the group is 3\n"
          ]
        }
      ]
    },
    {
      "cell_type": "markdown",
      "source": [
        "Tuples"
      ],
      "metadata": {
        "id": "zHSX0OLwfGR-"
      }
    },
    {
      "cell_type": "code",
      "source": [
        "scores = (2.5, 2.6, 4.6, 8.7, 9, 1.0, 3.8)\n",
        "print(scores[4])"
      ],
      "metadata": {
        "colab": {
          "base_uri": "https://localhost:8080/"
        },
        "id": "0fxC83SjfDWj",
        "outputId": "572d7d22-c5b3-4df0-bc1f-83b9d96bef6b"
      },
      "execution_count": 3,
      "outputs": [
        {
          "output_type": "stream",
          "name": "stdout",
          "text": [
            "9\n"
          ]
        }
      ]
    },
    {
      "cell_type": "code",
      "source": [
        "scores1 = (2.5, 2.6, 4.6, 8.7, 9, 1.0, 3.8)\n",
        "scores2 = (3.4, 5.6, 1, 4, 7, 6, 4.8)\n",
        "new_scores = scores1 + scores2\n",
        "print(new_scores)"
      ],
      "metadata": {
        "colab": {
          "base_uri": "https://localhost:8080/"
        },
        "id": "kl3fqdpl0Bj0",
        "outputId": "5d4ceee5-da5b-44d1-ca79-51fabbc9803a"
      },
      "execution_count": 4,
      "outputs": [
        {
          "output_type": "stream",
          "name": "stdout",
          "text": [
            "(2.5, 2.6, 4.6, 8.7, 9, 1.0, 3.8, 3.4, 5.6, 1, 4, 7, 6, 4.8)\n"
          ]
        }
      ]
    }
  ]
}