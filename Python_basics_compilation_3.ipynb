{
  "nbformat": 4,
  "nbformat_minor": 0,
  "metadata": {
    "colab": {
      "provenance": [],
      "collapsed_sections": [],
      "authorship_tag": "ABX9TyNDETJEeZOkqZ/28eA3Mkfq",
      "include_colab_link": true
    },
    "kernelspec": {
      "name": "python3",
      "display_name": "Python 3"
    },
    "language_info": {
      "name": "python"
    }
  },
  "cells": [
    {
      "cell_type": "markdown",
      "metadata": {
        "id": "view-in-github",
        "colab_type": "text"
      },
      "source": [
        "<a href=\"https://colab.research.google.com/github/Sharzzdevise/Compiled-Python-basics/blob/Master/Python_basics_compilation_3.ipynb\" target=\"_parent\"><img src=\"https://colab.research.google.com/assets/colab-badge.svg\" alt=\"Open In Colab\"/></a>"
      ]
    },
    {
      "cell_type": "markdown",
      "source": [
        "Functions"
      ],
      "metadata": {
        "id": "eNaKr6KVGaGK"
      }
    },
    {
      "cell_type": "code",
      "source": [
        "def hello(name):\n",
        "  print('Hello',name)\n",
        "hello('Sharzz')\n",
        "hello('Sandra')\n",
        "hello('Shantel')\n",
        "hello('Sasha')"
      ],
      "metadata": {
        "colab": {
          "base_uri": "https://localhost:8080/"
        },
        "id": "ApCyS5EQGerL",
        "outputId": "de8c2555-1c06-4d11-fb3a-fdba3b0f57a7"
      },
      "execution_count": null,
      "outputs": [
        {
          "output_type": "stream",
          "name": "stdout",
          "text": [
            "Hello Sharzz\n",
            "Hello Sandra\n",
            "Hello Shantel\n",
            "Hello Sasha\n"
          ]
        }
      ]
    },
    {
      "cell_type": "code",
      "source": [
        "def func(name, job):\n",
        "  print(name, 'is a', job)\n",
        "func('Sharon','Data Scientist')"
      ],
      "metadata": {
        "colab": {
          "base_uri": "https://localhost:8080/"
        },
        "id": "7zDj_PYaIeuk",
        "outputId": "fe63f4a7-2777-4333-db0f-bea99498c36d"
      },
      "execution_count": null,
      "outputs": [
        {
          "output_type": "stream",
          "name": "stdout",
          "text": [
            "Sharon is a Data Scientist\n"
          ]
        }
      ]
    },
    {
      "cell_type": "markdown",
      "source": [
        "Types of Arguments\n",
        "\n",
        "Positional Arguments,\n",
        "Keyword Arguments,\n",
        "Default Arguments,\n",
        "Variable Length Positional Arguments (*args),\n",
        "Variable Length Keyword Arguments (**kwargs),"
      ],
      "metadata": {
        "id": "OwTpj9w2KBQ0"
      }
    },
    {
      "cell_type": "code",
      "source": [
        "def func(name, job):\n",
        "  print(name, 'is a', job)\n",
        "func(name='Sharon',job='Data Scientist')\n",
        "func(job='Data Scientist', name='Sharon')"
      ],
      "metadata": {
        "colab": {
          "base_uri": "https://localhost:8080/"
        },
        "id": "Lx2N23lxJesJ",
        "outputId": "820fd251-266e-47d4-b5a3-0d8c00b2621d"
      },
      "execution_count": null,
      "outputs": [
        {
          "output_type": "stream",
          "name": "stdout",
          "text": [
            "Sharon is a Data Scientist\n",
            "Sharon is a Data Scientist\n"
          ]
        }
      ]
    },
    {
      "cell_type": "code",
      "source": [
        "def func(name, job='Manager'):\n",
        "  print(name, 'is a', job)\n",
        "func('Sharon','Data Scientist')\n",
        "func('Sharon')"
      ],
      "metadata": {
        "colab": {
          "base_uri": "https://localhost:8080/"
        },
        "id": "wrD3I5wSLE3b",
        "outputId": "19d5ce93-44b3-4f45-a812-49c0a7bd4588"
      },
      "execution_count": null,
      "outputs": [
        {
          "output_type": "stream",
          "name": "stdout",
          "text": [
            "Sharon is a Data Scientist\n",
            "Sharon is a Manager\n"
          ]
        }
      ]
    },
    {
      "cell_type": "markdown",
      "source": [
        "Variable length arguments are useful when you want to create functions that take an unlimited number of arguments. Unlimited in the sense that you do not know beforehand how many arguments can be passed to your function by the user.\n",
        "\n",
        "This feature is often referred to as var-args.\n",
        "\n",
        "*args\n",
        "When you prefix a parameter with an asterisk * , it collects all the unmatched positional arguments into a tuple. Due to the fact that it is a normal tuple object, you can perform any operation that a tuple supports, like indexing, iteration etc.\n",
        "\n",
        "Following function prints all the arguments passed to the function as a tuple."
      ],
      "metadata": {
        "id": "WRzkGzLQPDC7"
      }
    },
    {
      "cell_type": "code",
      "source": [
        "def print_argument(*args):\n",
        "  print(args)\n",
        "  print_argument(23, 45, 34, 56, 78,99, 11, 30, 54)"
      ],
      "metadata": {
        "id": "-ThJe3p7Orti"
      },
      "execution_count": null,
      "outputs": []
    },
    {
      "cell_type": "code",
      "source": [
        "def print_argument(*kwargs):\n",
        "  print(kwargs)\n",
        "  print_argument(name ='Sharon', age = 28, job ='Data scientist' )"
      ],
      "metadata": {
        "id": "8XT6vm9CPqbR"
      },
      "execution_count": null,
      "outputs": []
    },
    {
      "cell_type": "markdown",
      "source": [
        "Return Value\n",
        "\n",
        "To return a value from a function, simply use a return statement. Once a return statement is executed, nothing else in the function body is executed."
      ],
      "metadata": {
        "id": "8ZQe-ARnQ6Yp"
      }
    },
    {
      "cell_type": "code",
      "source": [
        "def sum(a, b):\n",
        " return(a + b)\n",
        " x = sum(3, 4)\n",
        " print(x)"
      ],
      "metadata": {
        "id": "kckiHA3cQ41r"
      },
      "execution_count": null,
      "outputs": []
    },
    {
      "cell_type": "code",
      "source": [
        "def func(a, b):\n",
        "  return a+b, a-b, a*b\n",
        "  result =func(3, 2)\n",
        "  print(result)"
      ],
      "metadata": {
        "id": "awnA55V4TtQ0"
      },
      "execution_count": null,
      "outputs": []
    },
    {
      "cell_type": "code",
      "source": [
        "help(hello)"
      ],
      "metadata": {
        "colab": {
          "base_uri": "https://localhost:8080/"
        },
        "id": "9l0_ZgM6VnnG",
        "outputId": "50782937-cef1-4559-85f5-cfeb0b559453"
      },
      "execution_count": null,
      "outputs": [
        {
          "output_type": "stream",
          "name": "stdout",
          "text": [
            "Help on function hello in module __main__:\n",
            "\n",
            "hello(name)\n",
            "\n"
          ]
        }
      ]
    },
    {
      "cell_type": "markdown",
      "source": [
        "Class\n",
        "\n",
        "Classes and objects are the two main aspects of object-oriented programming.\n",
        "\n",
        "A class is the blueprint from which individual objects are created. In the real world, for example, there may be thousands of cars in existence, all of the same make and model.\n",
        "\n",
        "Each car was built from the same set of blueprints, and therefore contains the same components. In object-oriented terms, we say that your car is an instance (object) of the class Car."
      ],
      "metadata": {
        "id": "Ur10sxMhV8eC"
      }
    },
    {
      "cell_type": "code",
      "source": [
        "class Cars:\n",
        "  pass"
      ],
      "metadata": {
        "id": "irXeIuKgWsXb"
      },
      "execution_count": null,
      "outputs": []
    },
    {
      "cell_type": "markdown",
      "source": [
        "The __init__() Method\n",
        "\n",
        "__init__() is the special method that initializes an individual object. This method runs automatically each time an object of a class is created.\n",
        "\n",
        "The __init__() method is generally used to perform operations that are necessary before the object is created."
      ],
      "metadata": {
        "id": "DHA7Me-vXqBC"
      }
    },
    {
      "cell_type": "code",
      "source": [
        "class Cars:\n",
        "  def __init__(self):\n",
        "   pass"
      ],
      "metadata": {
        "id": "HrejEgywXIqB"
      },
      "execution_count": null,
      "outputs": []
    },
    {
      "cell_type": "markdown",
      "source": [
        "Whenever you define an init method, its first parameter should be self.\n",
        "\n",
        "The self Parameter\n",
        "The self parameter refers to the individual object itself. It is used to fetch or set attributes of the particular instance.\n",
        "\n",
        "This parameter doesn’t have to be called self, you can call it whatever you want, but it is standard practice, and you should probably stick with it. \n",
        "\n",
        "Attributes\n",
        "Every class you write in Python has two basic features: attributes and methods.\n",
        "\n",
        "Attributes are the individual things that differentiate one object from another. They determine the appearance, state, or other qualities of that object.\n",
        "\n",
        "In our case, the ‘Car’ class might have the following attributes:\n",
        "\n",
        "Style: Sedan, SUV, Coupe\n",
        "\n",
        "Color: Silver, Black, White\n",
        "\n",
        "Wheels: Four\n",
        "\n",
        "Attributes are defined in classes by variables, and each object can have its own values for those variables."
      ],
      "metadata": {
        "id": "cGhe_UfQYsqy"
      }
    },
    {
      "cell_type": "code",
      "source": [
        "class Cars:\n",
        "  def __init__(self, colour, style):\n",
        "    self.colour = colour\n",
        "    self.style = style"
      ],
      "metadata": {
        "id": "rr10x0n3YErZ"
      },
      "execution_count": null,
      "outputs": []
    },
    {
      "cell_type": "markdown",
      "source": [
        "Class Attribute\n",
        "\n",
        "The class attribute is a variable that is the same for all objects. And there’s only one copy of that variable that is shared with all objects. Any changes made to that variable will reflect in all other objects. \n",
        "\n",
        "In the case of our Car() class, each car has 4 wheels."
      ],
      "metadata": {
        "id": "_WHbLC8vaD4F"
      }
    },
    {
      "cell_type": "code",
      "source": [
        "class Cars:\n",
        "  wheels = 4\n",
        "  def __init__(self, colour, style):\n",
        "    self.colour = colour\n",
        "    self.style = style"
      ],
      "metadata": {
        "id": "OsLFios6YE0L"
      },
      "execution_count": null,
      "outputs": []
    },
    {
      "cell_type": "code",
      "source": [
        "class Cars:\n",
        "  wheels = 4\n",
        "  def __init__(self, colour, style):\n",
        "    self.colour = colour\n",
        "    self.style = style\n",
        "c = Cars('Black', 'Ford')\n",
        "print(c.colour)\n",
        "print(c.style)\n",
        "c.style = 'SUV'\n",
        "print(c.style)"
      ],
      "metadata": {
        "colab": {
          "base_uri": "https://localhost:8080/"
        },
        "id": "nu9-A1YOaLvp",
        "outputId": "6370ea46-ddc6-4f0a-ef95-f1e04a40f910"
      },
      "execution_count": null,
      "outputs": [
        {
          "output_type": "stream",
          "name": "stdout",
          "text": [
            "Black\n",
            "Ford\n",
            "SUV\n"
          ]
        }
      ]
    },
    {
      "cell_type": "markdown",
      "source": [
        "Methods\n",
        "Methods determine what type of functionality a class has, how it handles its data, and its overall behavior. Without methods, a class would simply be a structure.\n",
        "\n",
        "In our case, the ‘Car’ class might have the following methods:\n",
        "\n",
        "Change color\n",
        "Start engine\n",
        "Stop engine\n",
        "Change gear\n",
        "Just as there are instance and class attributes, there are also instance and class methods.\n",
        "\n",
        "Instance methods operate on an instance of a class; whereas class methods operate on the class itself.\n",
        "\n",
        "1. Instance Methods\n",
        "\n",
        "Instance methods are nothing but functions defined inside a class that operates on instances of that class.\n",
        "\n",
        "Now let’s add some methods to the class.\n",
        "\n",
        "showDescription() method: to print the current values of all the instance attributes\n",
        "changeColor() method: to change the value of ‘color’ attribute"
      ],
      "metadata": {
        "id": "lXaIwjyeDmf9"
      }
    },
    {
      "cell_type": "code",
      "source": [
        "class Cars:\n",
        "  wheels = 4\n",
        "  def __init__(self, colour, style):\n",
        "    self.colour = colour\n",
        "    self.style = style\n",
        "def showDescription(self):\n",
        "  print(\"This car is a\", self.colour, self.style)"
      ],
      "metadata": {
        "id": "tLRqnuY1Dy0Z"
      },
      "execution_count": null,
      "outputs": []
    },
    {
      "cell_type": "code",
      "source": [
        "class Cars:\n",
        "  wheels = 4\n",
        "  def __init__(self, colour, style):\n",
        "    self.colour = colour\n",
        "    self.style = style\n",
        "def changeColour(self, colour):\n",
        "  self.colour = colour\n",
        "c = Cars('Black', 'Sedan')\n",
        "print(c)"
      ],
      "metadata": {
        "colab": {
          "base_uri": "https://localhost:8080/"
        },
        "id": "-VFNQGPjFWG3",
        "outputId": "1bb71ec6-1101-4abb-b82a-8808275ac606"
      },
      "execution_count": null,
      "outputs": [
        {
          "output_type": "stream",
          "name": "stdout",
          "text": [
            "<__main__.Cars object at 0x7f8f599dc690>\n"
          ]
        }
      ]
    },
    {
      "cell_type": "markdown",
      "source": [
        "Modules\n",
        "\n",
        "Python libraries are different from python modules, a python module is a file which contains python functions , global variables etc. It is nothing but a .py file which has python executable code or statement."
      ],
      "metadata": {
        "id": "QRiNovgzJMjF"
      }
    },
    {
      "cell_type": "code",
      "source": [
        "def Square(x):\n",
        "  result = x * x;\n",
        "  return result"
      ],
      "metadata": {
        "id": "5UUHmCvwHx1R"
      },
      "execution_count": null,
      "outputs": []
    },
    {
      "cell_type": "code",
      "source": [
        "import math\n",
        "print(math.sqrt(4))\n",
        "print(math.pow(2,5))"
      ],
      "metadata": {
        "colab": {
          "base_uri": "https://localhost:8080/"
        },
        "id": "3cP2yTorIG2y",
        "outputId": "2fea962f-294a-4e12-a9c6-ea48cdef356e"
      },
      "execution_count": null,
      "outputs": [
        {
          "output_type": "stream",
          "name": "stdout",
          "text": [
            "2.0\n",
            "32.0\n"
          ]
        }
      ]
    },
    {
      "cell_type": "markdown",
      "source": [
        "A Python library is a reusable chunk of code that you may want to include in your programs/ projects. Compared to languages like C++ or C, Python libraries do not pertain to any specific context in Python. Here, a ‘library’ loosely describes a collection of core modules. Essentially, then, a library is a collection of modules. A package is a library that can be installed using a package manager like pip\n",
        "\n",
        "What is pip?\n",
        "pip is the standard package manager for Python. It allows you to install and manage additional packages that are not part of the Python standard library. "
      ],
      "metadata": {
        "id": "c3Zs6cNBJmL8"
      }
    },
    {
      "cell_type": "markdown",
      "source": [],
      "metadata": {
        "id": "63PqkrlbJwzt"
      }
    },
    {
      "cell_type": "code",
      "source": [
        "x = 3\n",
        "\n",
        "while x>0:\n",
        "\n",
        "  print(x) \n",
        "\n",
        "  x = x+1\n",
        "\n",
        "print(\"go!\")"
      ],
      "metadata": {
        "id": "qpmXzBmLNqjQ"
      },
      "execution_count": null,
      "outputs": []
    },
    {
      "cell_type": "code",
      "source": [
        "language = \"Python\"\n",
        "class Snake :\n",
        " language = language + \"Boa\"\n",
        "print(Snake.language)"
      ],
      "metadata": {
        "colab": {
          "base_uri": "https://localhost:8080/"
        },
        "id": "C_rfRz5ASjBW",
        "outputId": "6c3200b5-5c58-41d7-fbbc-5f3b2390a9ce"
      },
      "execution_count": null,
      "outputs": [
        {
          "output_type": "stream",
          "name": "stdout",
          "text": [
            "PythonBoa\n"
          ]
        }
      ]
    }
  ]
}