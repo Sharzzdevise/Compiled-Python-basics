{
  "nbformat": 4,
  "nbformat_minor": 0,
  "metadata": {
    "colab": {
      "provenance": [],
      "collapsed_sections": [],
      "authorship_tag": "ABX9TyMv9Rqs62ZLbWKhN/+tEoK8",
      "include_colab_link": true
    },
    "kernelspec": {
      "name": "python3",
      "display_name": "Python 3"
    },
    "language_info": {
      "name": "python"
    }
  },
  "cells": [
    {
      "cell_type": "markdown",
      "metadata": {
        "id": "view-in-github",
        "colab_type": "text"
      },
      "source": [
        "<a href=\"https://colab.research.google.com/github/Sharzzdevise/Compiled-Python-basics/blob/Master/basic_python_compilations_2.ipynb\" target=\"_parent\"><img src=\"https://colab.research.google.com/assets/colab-badge.svg\" alt=\"Open In Colab\"/></a>"
      ]
    },
    {
      "cell_type": "markdown",
      "source": [
        "Sets"
      ],
      "metadata": {
        "id": "rLRSv6hw5jsA"
      }
    },
    {
      "cell_type": "code",
      "execution_count": null,
      "metadata": {
        "colab": {
          "base_uri": "https://localhost:8080/"
        },
        "id": "9ZGKsdnN5cXl",
        "outputId": "fc4806d2-100d-45d0-cf2a-8423ee0a2f12"
      },
      "outputs": [
        {
          "output_type": "stream",
          "name": "stdout",
          "text": [
            "{'blue', 'black', 'ash', 'yellow', 'green'}\n"
          ]
        }
      ],
      "source": [
        "colours = {\"yellow\", \"green\", \"black\", \"blue\", \"ash\"}\n",
        "print(colours)"
      ]
    },
    {
      "cell_type": "markdown",
      "source": [
        "converting sequence or iterable to set"
      ],
      "metadata": {
        "id": "jmSrQqFx6b9I"
      }
    },
    {
      "cell_type": "code",
      "source": [
        "colours = set([\"yellow\", \"green\", \"black\", \"blue\", \"ash\"])\n",
        "print(colours)"
      ],
      "metadata": {
        "colab": {
          "base_uri": "https://localhost:8080/"
        },
        "id": "4lCLrYKF6gah",
        "outputId": "4b1d0e46-a94f-420b-8cf2-fc7484bf1e03"
      },
      "execution_count": null,
      "outputs": [
        {
          "output_type": "stream",
          "name": "stdout",
          "text": [
            "{'blue', 'black', 'ash', 'yellow', 'green'}\n"
          ]
        }
      ]
    },
    {
      "cell_type": "code",
      "source": [
        "colours = set([\"yellow\", \"green\", \"black\", \"blue\", \"ash\"])\n",
        "colours = list(colours)\n",
        "print(colours)"
      ],
      "metadata": {
        "colab": {
          "base_uri": "https://localhost:8080/"
        },
        "id": "hYpV5E2Q7oD_",
        "outputId": "9f002798-f517-410f-9de6-6f56a8b01e72"
      },
      "execution_count": null,
      "outputs": [
        {
          "output_type": "stream",
          "name": "stdout",
          "text": [
            "['blue', 'black', 'ash', 'yellow', 'green']\n"
          ]
        }
      ]
    },
    {
      "cell_type": "code",
      "source": [
        "colours = set([\"yellow\", \"green\", \"black\", \"blue\", \"ash\"])\n",
        "colours.add(\"brown\")\n",
        "print(colours)"
      ],
      "metadata": {
        "colab": {
          "base_uri": "https://localhost:8080/"
        },
        "id": "recJjlvp8D3N",
        "outputId": "dc510897-d75b-406e-ca9a-ea21f7529505"
      },
      "execution_count": null,
      "outputs": [
        {
          "output_type": "stream",
          "name": "stdout",
          "text": [
            "{'blue', 'black', 'brown', 'ash', 'yellow', 'green'}\n"
          ]
        }
      ]
    },
    {
      "cell_type": "code",
      "source": [
        "colours = set([\"yellow\", \"green\", \"black\", \"blue\", \"ash\"])\n",
        "colours.update(\"brown\")\n",
        "print(colours)"
      ],
      "metadata": {
        "colab": {
          "base_uri": "https://localhost:8080/"
        },
        "id": "u1Mr0NX_8gAD",
        "outputId": "9917679b-1510-4928-b2e0-d6915fa75c5b"
      },
      "execution_count": null,
      "outputs": [
        {
          "output_type": "stream",
          "name": "stdout",
          "text": [
            "{'blue', 'black', 'w', 'b', 'o', 'r', 'ash', 'yellow', 'green', 'n'}\n"
          ]
        }
      ]
    },
    {
      "cell_type": "code",
      "source": [
        "colours = set([\"yellow\", \"green\", \"black\", \"blue\", \"ash\"])\n",
        "print(len(colours))"
      ],
      "metadata": {
        "colab": {
          "base_uri": "https://localhost:8080/"
        },
        "id": "YQrPlyYj9Cen",
        "outputId": "7a5013c2-5c60-47c0-a7d8-21d079c21cd7"
      },
      "execution_count": null,
      "outputs": [
        {
          "output_type": "stream",
          "name": "stdout",
          "text": [
            "5\n"
          ]
        }
      ]
    },
    {
      "cell_type": "markdown",
      "source": [
        "set union"
      ],
      "metadata": {
        "id": "TuH9E2jA9f4H"
      }
    },
    {
      "cell_type": "code",
      "source": [
        "A = {\"blue\", \"black\", \"Green\", \"brown\"}\n",
        "B = {\"Grey\", \"yellow\", \"white\"}\n",
        "print (A | B)\n",
        "print(A.union(B))"
      ],
      "metadata": {
        "colab": {
          "base_uri": "https://localhost:8080/"
        },
        "id": "vfRQ2awz9Q_m",
        "outputId": "e80e7bfc-ba81-4616-9351-a63512e8e44b"
      },
      "execution_count": null,
      "outputs": [
        {
          "output_type": "stream",
          "name": "stdout",
          "text": [
            "{'blue', 'black', 'white', 'yellow', 'Green', 'brown', 'Grey'}\n",
            "{'blue', 'black', 'white', 'yellow', 'Green', 'brown', 'Grey'}\n"
          ]
        }
      ]
    },
    {
      "cell_type": "markdown",
      "source": [
        "set intersection"
      ],
      "metadata": {
        "id": "0u86TFQC-31O"
      }
    },
    {
      "cell_type": "code",
      "source": [
        "A = {\"blue\", \"black\", \"Green\", \"brown\"}\n",
        "B = {\"grey\", \"black\", \"white\"}\n",
        "print(A & B)\n",
        "print(A.intersection(B))"
      ],
      "metadata": {
        "colab": {
          "base_uri": "https://localhost:8080/"
        },
        "id": "nYWI2do5-zK_",
        "outputId": "dcc5fc74-76e6-458f-89f2-f9112622b0e4"
      },
      "execution_count": null,
      "outputs": [
        {
          "output_type": "stream",
          "name": "stdout",
          "text": [
            "{'black'}\n",
            "{'black'}\n"
          ]
        }
      ]
    },
    {
      "cell_type": "markdown",
      "source": [
        "set difference"
      ],
      "metadata": {
        "id": "FKVTJHFU_XZP"
      }
    },
    {
      "cell_type": "code",
      "source": [
        "from traitlets.utils.bunch import Bunch\n",
        "A = {\"blue\", \"black\", \"Green\", \"brown\"}\n",
        "B = {\"grey\", \"black\", \"white\"}\n",
        "print( A - B)\n",
        "print(A.difference(B))\n",
        "print(A ^ B)\n",
        "print(A.symmetric_difference(B))\n",
        "print(A.symmetric_difference_update(B))"
      ],
      "metadata": {
        "colab": {
          "base_uri": "https://localhost:8080/"
        },
        "id": "nQ-KMYW9_ZQ-",
        "outputId": "92441de7-b129-4e57-a804-77b072ad9e73"
      },
      "execution_count": null,
      "outputs": [
        {
          "output_type": "stream",
          "name": "stdout",
          "text": [
            "{'blue', 'Green', 'brown'}\n",
            "{'blue', 'Green', 'brown'}\n",
            "{'blue', 'grey', 'brown', 'white', 'Green'}\n",
            "{'blue', 'grey', 'brown', 'white', 'Green'}\n",
            "None\n"
          ]
        }
      ]
    },
    {
      "cell_type": "code",
      "source": [
        "A = {\"blue\", \"black\", \"Green\", \"brown\"}\n",
        "B = {\"grey\", \"black\", \"white\"}\n",
        "print(A.isdisjoint(B))"
      ],
      "metadata": {
        "colab": {
          "base_uri": "https://localhost:8080/"
        },
        "id": "WRDfI2LjAEzT",
        "outputId": "3d08161c-d407-4c91-e245-1565284ced39"
      },
      "execution_count": null,
      "outputs": [
        {
          "output_type": "stream",
          "name": "stdout",
          "text": [
            "False\n"
          ]
        }
      ]
    },
    {
      "cell_type": "code",
      "source": [
        "A = {\"blue\", \"black\", \"Green\", \"brown\"}\n",
        "B = {\"blue\", \"black\", \"Green\", \"brown\"}\n",
        "print(A.isdisjoint(B))"
      ],
      "metadata": {
        "colab": {
          "base_uri": "https://localhost:8080/"
        },
        "id": "CsXmkCkaAxvK",
        "outputId": "bb10a510-8465-44eb-f071-75e79a4650fa"
      },
      "execution_count": null,
      "outputs": [
        {
          "output_type": "stream",
          "name": "stdout",
          "text": [
            "False\n"
          ]
        }
      ]
    },
    {
      "cell_type": "code",
      "source": [
        "print(\"calculator program\")\n",
        "first_number = input(\"first number: \")\n",
        "second_number = input(\"second number: \")\n",
        "print(first_number + second_number)"
      ],
      "metadata": {
        "colab": {
          "base_uri": "https://localhost:8080/"
        },
        "id": "bYr339Ig7z4S",
        "outputId": "56b971a6-5244-4a8f-e6cb-2bc15c04d2a1"
      },
      "execution_count": null,
      "outputs": [
        {
          "output_type": "stream",
          "name": "stdout",
          "text": [
            "calculator program\n",
            "first number: 45\n",
            "second number: 56\n",
            "4556\n"
          ]
        }
      ]
    },
    {
      "cell_type": "code",
      "source": [
        "print(\"Welcome to the greeter program\")\n",
        "name = input(\"Enter your name \")\n",
        "print(\"Greetings: \" + name)"
      ],
      "metadata": {
        "colab": {
          "base_uri": "https://localhost:8080/"
        },
        "id": "AZ88vmZv8kYD",
        "outputId": "fea8961f-f74a-4cd3-bee9-28a24e7a4ee1"
      },
      "execution_count": null,
      "outputs": [
        {
          "output_type": "stream",
          "name": "stdout",
          "text": [
            "Welcome to the greeter program\n",
            "Enter your name Sharon\n",
            "Greetings: Sharon\n"
          ]
        }
      ]
    },
    {
      "cell_type": "markdown",
      "source": [
        "Dictionaries"
      ],
      "metadata": {
        "id": "54RNXGeYrk8a"
      }
    },
    {
      "cell_type": "code",
      "source": [
        "employee_1 = {'Name': 'Grace', 'Job': 'AI Scientist', 'Age': 23, 'Location':'Lagos'}\n",
        "print(employee_1)"
      ],
      "metadata": {
        "colab": {
          "base_uri": "https://localhost:8080/"
        },
        "id": "dwvD1uWsrnTk",
        "outputId": "712a79bd-035b-4f31-9f0d-413dbbb24b83"
      },
      "execution_count": 1,
      "outputs": [
        {
          "output_type": "stream",
          "name": "stdout",
          "text": [
            "{'Name': 'Grace', 'Job': 'AI Scientist', 'Age': 23, 'Location': 'Lagos'}\n"
          ]
        }
      ]
    },
    {
      "cell_type": "markdown",
      "source": [
        "Another method of applying dict()"
      ],
      "metadata": {
        "id": "HK27Xa7yu_tg"
      }
    },
    {
      "cell_type": "code",
      "source": [
        "key = ['Name', 'Age', 'Location', 'Grade']\n",
        "value = ['Grace','26','Lagos','Distinction']\n",
        "biodata = dict(zip(key, value))\n",
        "print(biodata)"
      ],
      "metadata": {
        "colab": {
          "base_uri": "https://localhost:8080/"
        },
        "id": "lMIu7XE6tg7Q",
        "outputId": "c92f1267-ade7-4cc4-e4d2-d279c5e6f68a"
      },
      "execution_count": 3,
      "outputs": [
        {
          "output_type": "stream",
          "name": "stdout",
          "text": [
            "{'Name': 'Grace', 'Age': '26', 'Location': 'Lagos', 'Grade': 'Distinction'}\n"
          ]
        }
      ]
    },
    {
      "cell_type": "code",
      "source": [
        "employee_1 = {'Name': 'Grace', 'Job': 'AI Scientist', 'Age': 23, 'Location':'Lagos'}\n",
        "print(employee_1.get('Name'))"
      ],
      "metadata": {
        "colab": {
          "base_uri": "https://localhost:8080/"
        },
        "id": "35EfHGf9vFpW",
        "outputId": "87c8b33e-f613-446d-d50f-8c43286f450f"
      },
      "execution_count": 4,
      "outputs": [
        {
          "output_type": "stream",
          "name": "stdout",
          "text": [
            "Grace\n"
          ]
        }
      ]
    },
    {
      "cell_type": "markdown",
      "source": [
        "Adding a new key to the dictionary"
      ],
      "metadata": {
        "id": "BpLy2DuOwSvT"
      }
    },
    {
      "cell_type": "code",
      "source": [
        "employee_1 = {'Name': 'Grace', 'Job': 'AI Scientist', 'Age': 23, 'Location':'Lagos'}\n",
        "employee_1['Name'] = \"Sharon\"\n",
        "print(employee_1)"
      ],
      "metadata": {
        "colab": {
          "base_uri": "https://localhost:8080/"
        },
        "id": "lPLMgUgtwED3",
        "outputId": "3aee7f9c-fe22-4dc4-ecd7-1d55e966d4fc"
      },
      "execution_count": 5,
      "outputs": [
        {
          "output_type": "stream",
          "name": "stdout",
          "text": [
            "{'Name': 'Sharon', 'Job': 'AI Scientist', 'Age': 23, 'Location': 'Lagos'}\n"
          ]
        }
      ]
    },
    {
      "cell_type": "markdown",
      "source": [
        "Merge two dictionaries\n"
      ],
      "metadata": {
        "id": "m0SwLCgCyMTG"
      }
    },
    {
      "cell_type": "code",
      "source": [
        "employee_1 = {'Name':'Grace', 'Job':'AI Scientist','Age': 23, 'Location': 'Lagos'}\n",
        "employee_2 = {'Name':'Grace', 'Job':'AI Scientist','Age': 30, 'Location': 'Lagos'}\n",
        "employee_1.update(employee_2)\n",
        "print(employee_1)"
      ],
      "metadata": {
        "colab": {
          "base_uri": "https://localhost:8080/"
        },
        "id": "3Zy8l0jEw1nr",
        "outputId": "891c07dc-38db-4ab2-d1cf-c7e71487869a"
      },
      "execution_count": 7,
      "outputs": [
        {
          "output_type": "stream",
          "name": "stdout",
          "text": [
            "{'Name': 'Grace', 'Job': 'AI Scientist', 'Age': 30, 'Location': 'Lagos'}\n"
          ]
        }
      ]
    },
    {
      "cell_type": "markdown",
      "source": [
        "Remove Dictionary Item\n",
        "\n",
        "Remove an Item by Key\n",
        "\n",
        "If you know the key of the item you want, you can use the pop() method. It removes the key and returns its value."
      ],
      "metadata": {
        "id": "v4JWCGcJ0WNj"
      }
    },
    {
      "cell_type": "code",
      "source": [
        "employee_2 = {'Name':'Grace', 'Job':'AI Scientist','Age': 30, 'Location': 'Lagos'}\n",
        "x = employee_2.pop('Age')\n",
        "print(x)\n",
        "print(employee_2)\n"
      ],
      "metadata": {
        "colab": {
          "base_uri": "https://localhost:8080/"
        },
        "id": "2z49K6gn0jAd",
        "outputId": "87b273f7-9c40-4d53-ba63-262e40a5a93a"
      },
      "execution_count": 9,
      "outputs": [
        {
          "output_type": "stream",
          "name": "stdout",
          "text": [
            "30\n",
            "{'Name': 'Grace', 'Job': 'AI Scientist', 'Location': 'Lagos'}\n"
          ]
        }
      ]
    },
    {
      "cell_type": "code",
      "source": [
        "employee_2 = {'Name':'Grace', 'Job':'AI Scientist','Age': 30, 'Location': 'Lagos'}\n",
        "employee_2.clear()\n",
        "print(employee_2)"
      ],
      "metadata": {
        "colab": {
          "base_uri": "https://localhost:8080/"
        },
        "id": "dPbe5px61b_5",
        "outputId": "ea9d2866-b3d6-4177-e178-6b81931b9b91"
      },
      "execution_count": 10,
      "outputs": [
        {
          "output_type": "stream",
          "name": "stdout",
          "text": [
            "{}\n"
          ]
        }
      ]
    },
    {
      "cell_type": "markdown",
      "source": [
        "While loop"
      ],
      "metadata": {
        "id": "-KEz29pt2WMZ"
      }
    },
    {
      "cell_type": "code",
      "source": [
        "x = 10\n",
        "while x>0:\n",
        "  print(x)\n",
        "  x = x-1\n",
        "print(\"go!\")"
      ],
      "metadata": {
        "colab": {
          "base_uri": "https://localhost:8080/"
        },
        "id": "qqYZwkZA2cEq",
        "outputId": "d784c0a7-cba4-44ff-c8e4-663287b4a7a6"
      },
      "execution_count": 12,
      "outputs": [
        {
          "output_type": "stream",
          "name": "stdout",
          "text": [
            "10\n",
            "9\n",
            "8\n",
            "7\n",
            "6\n",
            "5\n",
            "4\n",
            "3\n",
            "2\n",
            "1\n",
            "go!\n"
          ]
        }
      ]
    },
    {
      "cell_type": "markdown",
      "source": [
        "The Python Break and Continue Statements"
      ],
      "metadata": {
        "id": "JGoL2u1I32QT"
      }
    },
    {
      "cell_type": "code",
      "source": [
        "x = 0\n",
        "n = 10\n",
        "while x<=n:\n",
        "  print(x)\n",
        "  if x==4:\n",
        "    break\n",
        "    x = x + 1"
      ],
      "metadata": {
        "id": "8603VPL_3c6B"
      },
      "execution_count": null,
      "outputs": []
    },
    {
      "cell_type": "markdown",
      "source": [
        "This time, when n is 2, the continue statement causes termination of that iteration. Thus, 2 isn’t printed. Execution returns to the top of the loop, the condition is re-evaluated, and it is still true. The loop resumes, terminating when n becomes 0, as previously."
      ],
      "metadata": {
        "id": "vFyIFuGn4ckh"
      }
    },
    {
      "cell_type": "code",
      "source": [
        "n = 5 \n",
        "while n>0:\n",
        "  n-=1\n",
        "  if n==2:\n",
        "    continue\n",
        "    print(n)\n",
        "    print('Loop ended.')"
      ],
      "metadata": {
        "id": "LtoD_qka48MZ"
      },
      "execution_count": 18,
      "outputs": []
    }
  ]
}